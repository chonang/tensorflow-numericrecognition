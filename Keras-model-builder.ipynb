{
 "cells": [
  {
   "cell_type": "markdown",
   "metadata": {},
   "source": [
    "# Keras Model builder\n",
    "\n",
    "adapted from https://github.com/emerging-technologies/keras-iris/blob/master/iris_nn.py and https://keras.io/datasets/ and the keras repository on github https://github.com/fchollet/keras"
   ]
  },
  {
   "cell_type": "code",
   "execution_count": 24,
   "metadata": {},
   "outputs": [],
   "source": [
    "import keras as kr\n",
    "from keras import utils\n",
    "\n",
    "from keras.datasets import mnist\n",
    "from keras.models import Sequential\n",
    "from keras.layers import Dense, Dropout\n",
    "from keras.optimizers import RMSprop"
   ]
  },
  {
   "cell_type": "code",
   "execution_count": 27,
   "metadata": {},
   "outputs": [
    {
     "name": "stdout",
     "output_type": "stream",
     "text": [
      "Epoch 1/20\n",
      "60000/60000 [==============================] - 28s 470us/step - loss: 0.2491 - acc: 0.9245\n",
      "Epoch 2/20\n",
      "60000/60000 [==============================] - 28s 458us/step - loss: 0.1033 - acc: 0.9676\n",
      "Epoch 3/20\n",
      "60000/60000 [==============================] - 28s 462us/step - loss: 0.0766 - acc: 0.9766\n",
      "Epoch 4/20\n",
      "60000/60000 [==============================] - 28s 467us/step - loss: 0.0615 - acc: 0.9811\n",
      "Epoch 5/20\n",
      "60000/60000 [==============================] - 28s 474us/step - loss: 0.0518 - acc: 0.9846\n",
      "Epoch 6/20\n",
      "60000/60000 [==============================] - 28s 471us/step - loss: 0.0422 - acc: 0.9874\n",
      "Epoch 7/20\n",
      "60000/60000 [==============================] - 30s 500us/step - loss: 0.0383 - acc: 0.98881s - loss: 0.0\n",
      "Epoch 8/20\n",
      "60000/60000 [==============================] - 29s 489us/step - loss: 0.0338 - acc: 0.9898\n",
      "Epoch 9/20\n",
      "60000/60000 [==============================] - 29s 488us/step - loss: 0.0314 - acc: 0.9905\n",
      "Epoch 10/20\n",
      "60000/60000 [==============================] - 29s 490us/step - loss: 0.0290 - acc: 0.9918\n",
      "Epoch 11/20\n",
      "60000/60000 [==============================] - 30s 492us/step - loss: 0.0255 - acc: 0.9928\n",
      "Epoch 12/20\n",
      "60000/60000 [==============================] - 30s 492us/step - loss: 0.0243 - acc: 0.99280s - loss: 0.0243 - acc: 0.992\n",
      "Epoch 13/20\n",
      "60000/60000 [==============================] - 30s 497us/step - loss: 0.0235 - acc: 0.9934\n",
      "Epoch 14/20\n",
      "60000/60000 [==============================] - 31s 512us/step - loss: 0.0225 - acc: 0.9933\n",
      "Epoch 15/20\n",
      "60000/60000 [==============================] - 29s 489us/step - loss: 0.0221 - acc: 0.9940\n",
      "Epoch 16/20\n",
      "60000/60000 [==============================] - 30s 503us/step - loss: 0.0201 - acc: 0.9946\n",
      "Epoch 17/20\n",
      "60000/60000 [==============================] - 30s 504us/step - loss: 0.0202 - acc: 0.9949\n",
      "Epoch 18/20\n",
      "60000/60000 [==============================] - 30s 503us/step - loss: 0.0203 - acc: 0.9943\n",
      "Epoch 19/20\n",
      "60000/60000 [==============================] - 30s 501us/step - loss: 0.0181 - acc: 0.9952\n",
      "Epoch 20/20\n",
      "60000/60000 [==============================] - 30s 494us/step - loss: 0.0182 - acc: 0.99520s - loss: 0.0183 - acc: 0.9\n",
      "10000/10000 [==============================] - 3s 309us/step\n",
      "\n",
      "\n",
      "Loss: 0.1108\tAccuracy: 0.9844\n"
     ]
    }
   ],
   "source": [
    "(in_train, out_train), (in_test, out_test) = mnist.load_data()\n",
    "\n",
    "#Training should contain 60k while test should contain 10k\n",
    "in_train = in_train.reshape(60000, 784).astype('float32')\n",
    "in_test = in_test.reshape(10000, 784).astype('float32')\n",
    "\n",
    "#flattening for between 0 and 1\n",
    "#Update, instead of flattening, my = were actually -, Accuracy has increased from .4 to .9, I need a smoke and a few new patches of hair.\n",
    "in_train = in_train / 255\n",
    "in_test = in_test / 255\n",
    "\n",
    "# converts ints to binary classes so its used with Cross entropy - https://keras.io/utils/\n",
    "out_train = kr.utils.to_categorical(out_train, 10)\n",
    "out_test = kr.utils.to_categorical(out_test, 10)\n",
    "\n",
    "#creates a collection of layers based on the list fed to it (ie the bytes from the images)\n",
    "model = kr.models.Sequential()\n",
    "\n",
    "#adds 512 nodes within the hidden layers of the nueral network and the Dense allows for specification of the input parameters\n",
    "# in our case its the flattened input from the image at 784\n",
    "model.add(Dense(512, activation='relu', input_shape=(784,)))\n",
    "#dropout prevents over fitting\n",
    "model.add(Dropout(0.2))\n",
    "model.add(Dense(512, activation='relu'))\n",
    "model.add(Dropout(0.2))\n",
    "model.add(Dense(10, activation='softmax'))\n",
    "\n",
    "#https://keras.io/optimizers/ and https://github.com/emerging-technologies/keras-iris/blob/master/iris_nn.py \n",
    "#compiling for cross entropy with the desired metric of accuracy - RMSprop is the only real choice here, Nadam was awful\n",
    "model.compile(loss='categorical_crossentropy',optimizer=\"RMSprop\",metrics=['accuracy'])\n",
    "\n",
    "#fit the model to train data - https://stats.stackexchange.com/questions/153531/what-is-batch-size-in-neural-network\n",
    "model.fit(in_train, out_train, epochs=20, batch_size=128, verbose=1)\n",
    "\n",
    "# Evaluate the model\n",
    "loss, accuracy = model.evaluate(in_test, out_test, verbose=1)\n",
    "\n",
    "# Output the accuracy and loss\n",
    "print(\"\\n\\nLoss: %6.4f\\tAccuracy: %6.4f\" % (loss, accuracy))\n",
    "\n",
    "#save it\n",
    "model.save(\"./nn/keras_mnist_nn.h5\")"
   ]
  },
  {
   "cell_type": "markdown",
   "metadata": {},
   "source": [
    "Model now trained, evaluated and saved."
   ]
  }
 ],
 "metadata": {
  "kernelspec": {
   "display_name": "Python 3",
   "language": "python",
   "name": "python3"
  },
  "language_info": {
   "codemirror_mode": {
    "name": "ipython",
    "version": 3
   },
   "file_extension": ".py",
   "mimetype": "text/x-python",
   "name": "python",
   "nbconvert_exporter": "python",
   "pygments_lexer": "ipython3",
   "version": "3.6.1"
  }
 },
 "nbformat": 4,
 "nbformat_minor": 2
}
